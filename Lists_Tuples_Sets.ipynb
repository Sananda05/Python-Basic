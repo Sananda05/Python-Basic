{
  "nbformat": 4,
  "nbformat_minor": 0,
  "metadata": {
    "colab": {
      "name": "Lists_Tuples_Sets.ipynb",
      "provenance": [],
      "authorship_tag": "ABX9TyPt3ObYlD6UmZTokD/xlNmk",
      "include_colab_link": true
    },
    "kernelspec": {
      "name": "python3",
      "display_name": "Python 3"
    },
    "language_info": {
      "name": "python"
    }
  },
  "cells": [
    {
      "cell_type": "markdown",
      "metadata": {
        "id": "view-in-github",
        "colab_type": "text"
      },
      "source": [
        "<a href=\"https://colab.research.google.com/github/Sananda05/Python-Basic/blob/master/Lists_Tuples_Sets.ipynb\" target=\"_parent\"><img src=\"https://colab.research.google.com/assets/colab-badge.svg\" alt=\"Open In Colab\"/></a>"
      ]
    },
    {
      "cell_type": "code",
      "metadata": {
        "id": "tT9EwD4Np7Qx"
      },
      "source": [
        ""
      ],
      "execution_count": null,
      "outputs": []
    },
    {
      "cell_type": "markdown",
      "metadata": {
        "id": "UMI0IRYeqUTO"
      },
      "source": [
        "#Tutorial 4\n"
      ]
    },
    {
      "cell_type": "code",
      "metadata": {
        "colab": {
          "base_uri": "https://localhost:8080/"
        },
        "id": "gRNgCDNWqbUs",
        "outputId": "9d732c68-15a3-40cb-e3bf-c824259d9f43"
      },
      "source": [
        "#List\n",
        "\n",
        "names =['Sananda','Hissan','Adiba','Susmi']\n",
        "print (names)\n",
        "print(len(names))\n",
        "\n",
        "#last item index\n",
        "print(names[-1])\n",
        "\n",
        "print(names[0:2])\n",
        "print(names[2:])\n",
        "\n",
        "#list method\n",
        "names.append('Anika')\n",
        "print(names)\n",
        "names.insert(0,'Fahim')\n",
        "print(names)\n",
        "\n",
        "id=['1','24','3']\n",
        "names.insert(0,id)\n",
        "print(names)\n",
        "\n",
        "names.extend(id)\n",
        "print(names)\n",
        "\n",
        "#remove item\n",
        "\n",
        "names.remove(id)\n",
        "print(names)\n",
        "\n",
        "names.pop()\n",
        "print(names)\n",
        "\n",
        "#reverse List\n",
        "\n",
        "names.reverse()\n",
        "print(names)\n",
        "\n",
        "#sort List\n",
        "#alphabetic order and ascending order\n",
        "names.sort()\n",
        "print(names)\n",
        "\n",
        "#descending order\n",
        "names.sort(reverse=True)\n",
        "print (names)\n",
        "\n",
        "#sorted function\n",
        "\n",
        "sorted_nums = sorted(id)\n",
        "print(sorted_nums)\n",
        "\n",
        "nums=[3,5,1,4]\n",
        "print(min(nums))\n",
        "print(max(nums))\n",
        "print(sum(nums))\n",
        "\n",
        "#search index of element\n",
        "print(names.index('Hissan'))\n",
        "\n",
        "#boolean\n",
        "print('Robi'in names)\n",
        "print('Fahim'in names)\n",
        "\n",
        "#for loop\n",
        "for n in names:\n",
        "  print (n)\n",
        "\n",
        "#get index + element\n",
        "\n",
        "for i,n in enumerate(names):\n",
        " print(i,n)\n",
        "\n",
        "#specify starting\n",
        "for i,n in enumerate(names,start=2): \n",
        "  print(i,n)\n",
        "\n",
        "#List print as String\n",
        "\n",
        "names_str = ', '.join(names)\n",
        "print(names_str)\n",
        "\n",
        "\n"
      ],
      "execution_count": 30,
      "outputs": [
        {
          "output_type": "stream",
          "text": [
            "['Sananda', 'Hissan', 'Adiba', 'Susmi']\n",
            "4\n",
            "Susmi\n",
            "['Sananda', 'Hissan']\n",
            "['Adiba', 'Susmi']\n",
            "['Sananda', 'Hissan', 'Adiba', 'Susmi', 'Anika']\n",
            "['Fahim', 'Sananda', 'Hissan', 'Adiba', 'Susmi', 'Anika']\n",
            "[['1', '24', '3'], 'Fahim', 'Sananda', 'Hissan', 'Adiba', 'Susmi', 'Anika']\n",
            "[['1', '24', '3'], 'Fahim', 'Sananda', 'Hissan', 'Adiba', 'Susmi', 'Anika', '1', '24', '3']\n",
            "['Fahim', 'Sananda', 'Hissan', 'Adiba', 'Susmi', 'Anika', '1', '24', '3']\n",
            "['Fahim', 'Sananda', 'Hissan', 'Adiba', 'Susmi', 'Anika', '1', '24']\n",
            "['24', '1', 'Anika', 'Susmi', 'Adiba', 'Hissan', 'Sananda', 'Fahim']\n",
            "['1', '24', 'Adiba', 'Anika', 'Fahim', 'Hissan', 'Sananda', 'Susmi']\n",
            "['Susmi', 'Sananda', 'Hissan', 'Fahim', 'Anika', 'Adiba', '24', '1']\n",
            "['1', '24', '3']\n",
            "1\n",
            "5\n",
            "13\n",
            "2\n",
            "False\n",
            "True\n",
            "Susmi\n",
            "Sananda\n",
            "Hissan\n",
            "Fahim\n",
            "Anika\n",
            "Adiba\n",
            "24\n",
            "1\n",
            "0 Susmi\n",
            "1 Sananda\n",
            "2 Hissan\n",
            "3 Fahim\n",
            "4 Anika\n",
            "5 Adiba\n",
            "6 24\n",
            "7 1\n",
            "2 Susmi\n",
            "3 Sananda\n",
            "4 Hissan\n",
            "5 Fahim\n",
            "6 Anika\n",
            "7 Adiba\n",
            "8 24\n",
            "9 1\n",
            "Susmi, Sananda, Hissan, Fahim, Anika, Adiba, 24, 1\n"
          ],
          "name": "stdout"
        }
      ]
    },
    {
      "cell_type": "markdown",
      "metadata": {
        "id": "t86xb66T6YJY"
      },
      "source": [
        "###Tuple\n"
      ]
    },
    {
      "cell_type": "code",
      "metadata": {
        "colab": {
          "base_uri": "https://localhost:8080/"
        },
        "id": "1kfIYxVQ6dvO",
        "outputId": "36ae39f3-eec0-4233-dc0c-ce6106efe915"
      },
      "source": [
        "#mutable\n",
        "#Lists are mutable. It can be changed- assigned or removed items from lists.\n",
        "\n",
        "#immutable\n",
        "#Tuples are immutable. It can't assign new value or remove any exixting items from tuple.othrwise it's same as list\n",
        "\n",
        "touple = ['Sananda', 'Hissan', 'Adiba', 'Susmi']\n",
        "print(touple)"
      ],
      "execution_count": 31,
      "outputs": [
        {
          "output_type": "stream",
          "text": [
            "['Sananda', 'Hissan', 'Adiba', 'Susmi']\n"
          ],
          "name": "stdout"
        }
      ]
    },
    {
      "cell_type": "markdown",
      "metadata": {
        "id": "9OUQB3KT7cMd"
      },
      "source": [
        "###Sets\n"
      ]
    },
    {
      "cell_type": "code",
      "metadata": {
        "colab": {
          "base_uri": "https://localhost:8080/"
        },
        "id": "wsrg5RgA7elc",
        "outputId": "339163cc-0510-49b8-a3d0-9a59ebf29b17"
      },
      "source": [
        "#Sets are unordered with no duplicate. It is mainly used to find out if an element exist in that set or not. and to remove duplicate items\n",
        "\n",
        "sets ={'Sananda', 'Hissan', 'Adiba', 'Susmi'}\n",
        "print(sets)\n",
        "\n",
        "#find common items between two sets\n",
        "set1 = {'history','Math','algo'}\n",
        "set2={'history','art','Design'}\n",
        "\n",
        "print(set1.intersection(set2))\n",
        "print(set1.difference(set2))\n",
        "print(set1.union(set2))"
      ],
      "execution_count": 37,
      "outputs": [
        {
          "output_type": "stream",
          "text": [
            "{'Adiba', 'Susmi', 'Hissan', 'Sananda'}\n",
            "{'history'}\n",
            "{'Math', 'algo'}\n",
            "{'art', 'Design', 'history', 'Math', 'algo'}\n"
          ],
          "name": "stdout"
        }
      ]
    },
    {
      "cell_type": "markdown",
      "metadata": {
        "id": "I9l5L05l9Wct"
      },
      "source": [
        "###Empty list,set & tuple"
      ]
    },
    {
      "cell_type": "code",
      "metadata": {
        "id": "etl1NX2B9gSK"
      },
      "source": [
        "#empty list\n",
        "\n",
        "empty_list = []\n",
        "#or\n",
        "empty_list = list()\n",
        "\n",
        "#empty tuple\n",
        "emp_tuple =()\n",
        "#or\n",
        "emp_tuple = tuple()\n",
        "\n",
        "#empty set\n",
        "\n",
        "emp_set ={} #wrong\n",
        "\n",
        "empt_set = set()\n",
        "\n",
        "\n"
      ],
      "execution_count": null,
      "outputs": []
    }
  ]
}