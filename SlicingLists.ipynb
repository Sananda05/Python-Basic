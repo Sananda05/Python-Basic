{
  "nbformat": 4,
  "nbformat_minor": 0,
  "metadata": {
    "colab": {
      "name": "SlicingLists.ipynb",
      "provenance": [],
      "authorship_tag": "ABX9TyMPxPw4FQk/h2Vjehg9uv4r",
      "include_colab_link": true
    },
    "kernelspec": {
      "name": "python3",
      "display_name": "Python 3"
    },
    "language_info": {
      "name": "python"
    }
  },
  "cells": [
    {
      "cell_type": "markdown",
      "metadata": {
        "id": "view-in-github",
        "colab_type": "text"
      },
      "source": [
        "<a href=\"https://colab.research.google.com/github/Sananda05/Python-Basic/blob/master/SlicingLists.ipynb\" target=\"_parent\"><img src=\"https://colab.research.google.com/assets/colab-badge.svg\" alt=\"Open In Colab\"/></a>"
      ]
    },
    {
      "cell_type": "markdown",
      "metadata": {
        "id": "v7vxPDiISGyB"
      },
      "source": [
        "#Tutorial 19\n"
      ]
    },
    {
      "cell_type": "code",
      "metadata": {
        "id": "YM-SvvRBR8pu",
        "colab": {
          "base_uri": "https://localhost:8080/"
        },
        "outputId": "d0688dc6-f9d1-43dc-dad9-5504ff4f9a0c"
      },
      "source": [
        "my_list = [1,2,3,4,5,6,7,8]\n",
        "#index     0,1,2,3,4,5,6,7\n",
        "#index   -8-7,-6-5,-4-3,-2,-1\n",
        "\n",
        "#list [start:end:step];\n",
        "\n",
        "print (my_list[1:8:2])\n",
        "\n",
        "#access a range\n",
        "print(my_list[2:6])\n",
        "\n",
        "#reverse list\n",
        "print(my_list[::-1])\n"
      ],
      "execution_count": 4,
      "outputs": [
        {
          "output_type": "stream",
          "text": [
            "[2, 4, 6, 8]\n",
            "[3, 4, 5, 6]\n",
            "[8, 7, 6, 5, 4, 3, 2, 1]\n"
          ],
          "name": "stdout"
        }
      ]
    }
  ]
}