{
  "nbformat": 4,
  "nbformat_minor": 0,
  "metadata": {
    "colab": {
      "name": "Global&Local.ipynb",
      "provenance": [],
      "authorship_tag": "ABX9TyPUaGBy2wQS/D1FVREzpZuP",
      "include_colab_link": true
    },
    "kernelspec": {
      "name": "python3",
      "display_name": "Python 3"
    },
    "language_info": {
      "name": "python"
    }
  },
  "cells": [
    {
      "cell_type": "markdown",
      "metadata": {
        "id": "view-in-github",
        "colab_type": "text"
      },
      "source": [
        "<a href=\"https://colab.research.google.com/github/Sananda05/Python-Basic/blob/master/Global%26Local.ipynb\" target=\"_parent\"><img src=\"https://colab.research.google.com/assets/colab-badge.svg\" alt=\"Open In Colab\"/></a>"
      ]
    },
    {
      "cell_type": "markdown",
      "metadata": {
        "id": "IN-A2fWsVYuB"
      },
      "source": [
        "#Tutorial 18\n"
      ]
    },
    {
      "cell_type": "code",
      "metadata": {
        "colab": {
          "base_uri": "https://localhost:8080/",
          "height": 102
        },
        "id": "6tDh4L0pTQWw",
        "outputId": "39ef7d81-51cd-4aef-f6ab-04d4ea7f1a50"
      },
      "source": [
        "\n",
        "#LEGB\n",
        "# local enclosing Global built-in\n",
        "\n",
        "x = 'global x'\n",
        "\n",
        "def test():\n",
        "  y= 'local y'\n",
        "  print (y)\n",
        "  print (x)\n",
        "\n",
        "test()\n",
        "\n",
        "print(x)\n",
        "\n",
        "m = min([5,1,4,8,-8])\n",
        "print(m)\n",
        "\n",
        "\"\"\"print(y) won't work here. bcz it's a local var\"\"\""
      ],
      "execution_count": 1,
      "outputs": [
        {
          "output_type": "stream",
          "text": [
            "local y\n",
            "global x\n",
            "global x\n",
            "-8\n"
          ],
          "name": "stdout"
        },
        {
          "output_type": "execute_result",
          "data": {
            "application/vnd.google.colaboratory.intrinsic+json": {
              "type": "string"
            },
            "text/plain": [
              "\"print(y) won't work here. bcz it's a local var\""
            ]
          },
          "metadata": {
            "tags": []
          },
          "execution_count": 1
        }
      ]
    }
  ]
}