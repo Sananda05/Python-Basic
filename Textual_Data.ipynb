{
  "nbformat": 4,
  "nbformat_minor": 0,
  "metadata": {
    "colab": {
      "name": "Textual Data.ipynb",
      "provenance": [],
      "authorship_tag": "ABX9TyNO4A4glitLdDnK2UuqeeT/",
      "include_colab_link": true
    },
    "kernelspec": {
      "name": "python3",
      "display_name": "Python 3"
    },
    "language_info": {
      "name": "python"
    }
  },
  "cells": [
    {
      "cell_type": "markdown",
      "metadata": {
        "id": "view-in-github",
        "colab_type": "text"
      },
      "source": [
        "<a href=\"https://colab.research.google.com/github/Sananda05/Python-Basic/blob/master/Textual_Data.ipynb\" target=\"_parent\"><img src=\"https://colab.research.google.com/assets/colab-badge.svg\" alt=\"Open In Colab\"/></a>"
      ]
    },
    {
      "cell_type": "code",
      "metadata": {
        "id": "VywK6RABa7L8"
      },
      "source": [
        ""
      ],
      "execution_count": null,
      "outputs": []
    },
    {
      "cell_type": "markdown",
      "metadata": {
        "id": "Irf-OpLFbFs4"
      },
      "source": [
        "## Tutorial 1"
      ]
    },
    {
      "cell_type": "code",
      "metadata": {
        "colab": {
          "base_uri": "https://localhost:8080/"
        },
        "id": "o6SlMZR0bQuG",
        "outputId": "ccbdc883-a583-46f3-a57a-2d4d4670901b"
      },
      "source": [
        "print ('Hello world')\n",
        "print ('Sananda\\'s world')\n",
        "print (\"Sananda's world\")\n",
        "\n",
        "message = 'This is my first day in python or Python programming'\n",
        "print (message)\n",
        "print (len(message))\n",
        "print (message[3])\n",
        "print (message[0:16])\n",
        "print (message[:16])\n",
        "print (message[17:])\n",
        "\n",
        "print (message.lower())\n",
        "\n",
        "print (message.count('python')) \n",
        "print (message.find('my'))\n",
        "\n",
        "\n",
        "new_message = message.replace('first','First')\n",
        "print(new_message)\n",
        "\n",
        "greeting = 'Hello'\n",
        "name = 'Hissan'\n",
        "\n",
        "send1 = greeting+ ', '+ name\n",
        "print(send1)\n",
        "\n",
        "send2 = '{}, {}. Welcome!'.format(greeting,name)\n",
        "print(send2)\n",
        "\n",
        "send3 = f'{greeting}, {name.upper()}. Welcome!'\n",
        "print(send3)\n",
        "\n",
        "\n"
      ],
      "execution_count": 20,
      "outputs": [
        {
          "output_type": "stream",
          "text": [
            "Hello world\n",
            "Sananda's world\n",
            "Sananda's world\n",
            "This is my first day in python or Python programming\n",
            "52\n",
            "s\n",
            "This is my first\n",
            "This is my first\n",
            "day in python or Python programming\n",
            "this is my first day in python or python programming\n",
            "1\n",
            "8\n",
            "This is my First day in python or Python programming\n",
            "Hello, Hissan\n",
            "Hello, Hissan. Welcome!\n",
            "Hello, HISSAN. Welcome!\n"
          ],
          "name": "stdout"
        }
      ]
    }
  ]
}