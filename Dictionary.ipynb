{
  "nbformat": 4,
  "nbformat_minor": 0,
  "metadata": {
    "colab": {
      "name": "Dictionary.ipynb",
      "provenance": [],
      "authorship_tag": "ABX9TyN5O8OgxfV8njc3EVSY49O7",
      "include_colab_link": true
    },
    "kernelspec": {
      "name": "python3",
      "display_name": "Python 3"
    },
    "language_info": {
      "name": "python"
    }
  },
  "cells": [
    {
      "cell_type": "markdown",
      "metadata": {
        "id": "view-in-github",
        "colab_type": "text"
      },
      "source": [
        "<a href=\"https://colab.research.google.com/github/Sananda05/Python-Basic/blob/master/Dictionary.ipynb\" target=\"_parent\"><img src=\"https://colab.research.google.com/assets/colab-badge.svg\" alt=\"Open In Colab\"/></a>"
      ]
    },
    {
      "cell_type": "markdown",
      "metadata": {
        "id": "I9BWnc7E0B9E"
      },
      "source": [
        "#Dictionary- Key and Pair values\n"
      ]
    },
    {
      "cell_type": "code",
      "metadata": {
        "colab": {
          "base_uri": "https://localhost:8080/"
        },
        "id": "EtY6m_wp0Srv",
        "outputId": "b9e638fa-50fb-4c82-920a-5a0200d00912"
      },
      "source": [
        "student ={'name':'john','age':'24','courses':['Math','Arts']}\n",
        "print (student)\n",
        "\n",
        "#access key\n",
        "\n",
        "print(student['name'])\n",
        "\n",
        "#method\n",
        "\n",
        "print(student.get('name'))\n",
        "\n",
        "print(student.get('phone'))\n",
        "print(student.get('phone','Not found'))\n",
        "\n",
        "del student['age']\n",
        "student.pop('name')\n",
        "\n",
        "student.update({'name':'jane'})\n",
        "print(student)\n",
        "\n",
        "print(len(student))\n",
        "print(student.keys())\n",
        "print(student.values())\n",
        "print(student.items())\n",
        "\n",
        "##loop\n",
        "\n",
        "for key, value in student.items():\n",
        "  print(key,value)\n",
        "\n"
      ],
      "execution_count": 9,
      "outputs": [
        {
          "output_type": "stream",
          "text": [
            "{'name': 'john', 'age': '24', 'courses': ['Math', 'Arts']}\n",
            "john\n",
            "john\n",
            "None\n",
            "Not found\n",
            "{'courses': ['Math', 'Arts'], 'name': 'jane'}\n",
            "2\n",
            "dict_keys(['courses', 'name'])\n",
            "dict_values([['Math', 'Arts'], 'jane'])\n",
            "dict_items([('courses', ['Math', 'Arts']), ('name', 'jane')])\n",
            "courses ['Math', 'Arts']\n",
            "name jane\n"
          ],
          "name": "stdout"
        }
      ]
    }
  ]
}