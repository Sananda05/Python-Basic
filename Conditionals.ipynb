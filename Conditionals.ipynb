{
  "nbformat": 4,
  "nbformat_minor": 0,
  "metadata": {
    "colab": {
      "name": "Conditionals.ipynb",
      "provenance": [],
      "collapsed_sections": [],
      "authorship_tag": "ABX9TyM1bYvlqKzQfSNHMswpvl7a",
      "include_colab_link": true
    },
    "kernelspec": {
      "name": "python3",
      "display_name": "Python 3"
    },
    "language_info": {
      "name": "python"
    }
  },
  "cells": [
    {
      "cell_type": "markdown",
      "metadata": {
        "id": "view-in-github",
        "colab_type": "text"
      },
      "source": [
        "<a href=\"https://colab.research.google.com/github/Sananda05/Python-Basic/blob/master/Conditionals.ipynb\" target=\"_parent\"><img src=\"https://colab.research.google.com/assets/colab-badge.svg\" alt=\"Open In Colab\"/></a>"
      ]
    },
    {
      "cell_type": "markdown",
      "metadata": {
        "id": "A49tlz-uUAc4"
      },
      "source": [
        "#Tutorial 6\n",
        "*italicised text*"
      ]
    },
    {
      "cell_type": "code",
      "metadata": {
        "colab": {
          "base_uri": "https://localhost:8080/"
        },
        "id": "AUp_muVYSZgv",
        "outputId": "d6631308-fcad-459a-a9d3-132023b29e03"
      },
      "source": [
        "language = 'Java'\n",
        "\n",
        "if language == 'Python':\n",
        "  print(\"It's python\")\n",
        "elif language == 'Java':\n",
        "  print(\"It's Java\") \n",
        "else :\n",
        "  print(\"No match\")  \n",
        "\n",
        "#Boolean\n",
        "\n",
        "user ='Admin'\n",
        "logged_in = True\n",
        "\n",
        "if user =='Admin' and logged_in :\n",
        "  print(\"Admin Page\")\n",
        "else:\n",
        "  print(\"Please log in\") \n",
        "\n",
        "\n",
        "a =[1,2,3]\n",
        "b =[1,2,3]\n",
        "\n",
        "print(a==b)\n",
        "print(a is b)\n",
        "print(id(a))\n",
        "print(id(b))\n"
      ],
      "execution_count": 5,
      "outputs": [
        {
          "output_type": "stream",
          "text": [
            "It's Java\n",
            "Admin Page\n",
            "True\n",
            "False\n",
            "140316334767312\n",
            "140316334764832\n"
          ],
          "name": "stdout"
        }
      ]
    }
  ]
}