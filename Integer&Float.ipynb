{
  "nbformat": 4,
  "nbformat_minor": 0,
  "metadata": {
    "colab": {
      "name": "Integer&Float.ipynb",
      "provenance": [],
      "collapsed_sections": [],
      "history_visible": true,
      "authorship_tag": "ABX9TyOsAIJkeHCrt9OXc4CnnExc",
      "include_colab_link": true
    },
    "kernelspec": {
      "name": "python3",
      "display_name": "Python 3"
    },
    "language_info": {
      "name": "python"
    }
  },
  "cells": [
    {
      "cell_type": "markdown",
      "metadata": {
        "id": "view-in-github",
        "colab_type": "text"
      },
      "source": [
        "<a href=\"https://colab.research.google.com/github/Sananda05/Python-Basic/blob/master/Integer%26Float.ipynb\" target=\"_parent\"><img src=\"https://colab.research.google.com/assets/colab-badge.svg\" alt=\"Open In Colab\"/></a>"
      ]
    },
    {
      "cell_type": "code",
      "metadata": {
        "colab": {
          "base_uri": "https://localhost:8080/"
        },
        "id": "s_LKdQ6-keQm",
        "outputId": "b907bd77-0ba9-4b7f-a476-f478c4365676"
      },
      "source": [
        "num = 3\n",
        " \n",
        "print(type(num))\n",
        " \n",
        "#adding\n",
        " \n",
        "print(num+num)\n",
        " \n",
        "#subtract\n",
        "print(num - num)\n",
        " \n",
        "#mul\n",
        "print(num*num)\n",
        " \n",
        "#division\n",
        "print (num/2)\n",
        "#floor division\n",
        "print(num//2)\n",
        "\n",
        "#increament\n",
        "number =1\n",
        "number +=10\n",
        "print (number)\n",
        "\n",
        "#absolute value\n",
        "\n",
        "print(abs(-5))\n",
        "\n",
        "#round value\n",
        "\n",
        "print(round(3.75))\n",
        "\n",
        "#boolean value\n",
        "\n",
        "num1 = 5\n",
        "num2=24\n",
        "print(num1 != num2)\n",
        "\n",
        "#string to int\n",
        "\n",
        "num3='24'\n",
        "num4='46'\n",
        "\n",
        "num3= int(num3)\n",
        "num4 = int(num4)\n",
        "print(num3 +num4)"
      ],
      "execution_count": 16,
      "outputs": [
        {
          "output_type": "stream",
          "text": [
            "<class 'int'>\n",
            "6\n",
            "0\n",
            "9\n",
            "1.5\n",
            "1\n",
            "11\n",
            "5\n",
            "4\n",
            "True\n",
            "70\n"
          ],
          "name": "stdout"
        }
      ]
    }
  ]
}